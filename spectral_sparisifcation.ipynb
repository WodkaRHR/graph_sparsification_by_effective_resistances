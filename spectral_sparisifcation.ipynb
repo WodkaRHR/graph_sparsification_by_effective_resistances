{
 "cells": [
  {
   "cell_type": "markdown",
   "metadata": {},
   "source": [
    "# Implementation of \"Graph Sparsification by Effective Resistances\" by Spielman and Srivastava\n",
    "\n",
    "## See:\n",
    "@article{DBLP:journals/corr/abs-0803-0929,\n",
    "  author    = {Daniel A. Spielman and\n",
    "               Nikhil Srivastava},\n",
    "  title     = {Graph Sparsification by Effective Resistances},\n",
    "  journal   = {CoRR},\n",
    "  volume    = {abs/0803.0929},\n",
    "  year      = {2008},\n",
    "  url       = {http://arxiv.org/abs/0803.0929},\n",
    "  archivePrefix = {arXiv},\n",
    "  eprint    = {0803.0929},\n",
    "  timestamp = {Mon, 13 Aug 2018 16:46:14 +0200},\n",
    "  biburl    = {https://dblp.org/rec/bib/journals/corr/abs-0803-0929},\n",
    "  bibsource = {dblp computer science bibliography, https://dblp.org}\n",
    "}\n",
    "\n",
    "This implementation was done for the seminar \"Graph Sparsification\" at TUM."
   ]
  },
  {
   "cell_type": "code",
   "execution_count": 1,
   "metadata": {},
   "outputs": [],
   "source": [
    "import numpy as np\n",
    "import scipy.sparse as sp\n",
    "import matplotlib.pyplot as plt\n",
    "import networkx as nx\n",
    "import pandas as pd"
   ]
  },
  {
   "cell_type": "code",
   "execution_count": 2,
   "metadata": {},
   "outputs": [],
   "source": [
    "def construct_matrices(A):\n",
    "    \"\"\" Enumerates the edges in the graph and constructs the matrices neccessary for the algorithm.\n",
    "    \n",
    "    Parameters:\n",
    "    -----------\n",
    "    A : sp.csr_matrix, shape [N, N]\n",
    "        The graph adjacency matrix.\n",
    "    \n",
    "    Returns:\n",
    "    --------\n",
    "    L : sp.csr_matrix, shape [N, N]\n",
    "        The graph laplacian, unnormalized.\n",
    "    W_sqrt : sp.coo_matrix, shape [e, e]\n",
    "        Diagonal matrix containing the square root of weights of each edge.\n",
    "    B : sp.coo_matrix, shape [e, N]\n",
    "        Signed vertex incidence matrix.\n",
    "    edges : tuple\n",
    "        A tuple of lists containing the row and column indices of the edges.\n",
    "    \"\"\"\n",
    "    L = sp.csgraph.laplacian(A)\n",
    "    rows, cols = A.nonzero()\n",
    "    weights = np.sqrt(np.array(A[rows, cols].tolist()))\n",
    "    W_sqrt = sp.diags(weights, [0])\n",
    "    # Construct signed edge incidence matrix\n",
    "    num_vertices = A.shape[0]\n",
    "    num_edges = W_sqrt.shape[0]\n",
    "    assert(num_edges == len(rows) and num_edges == len(cols))\n",
    "    B = sp.coo_matrix((\n",
    "        ([1] * num_edges) + ([-1] * num_edges),\n",
    "        (list(range(num_edges)) * 2, list(rows) + list(cols))\n",
    "    ), shape=[num_edges, num_vertices])\n",
    "    return L.tocsr(), W_sqrt, B, (rows, cols)"
   ]
  },
  {
   "cell_type": "code",
   "execution_count": 3,
   "metadata": {},
   "outputs": [],
   "source": [
    "def compute_Z(L, W_sqrt, B, epsilon=1e-1, eta=1e-3, max_iters=1000, convergence_after = 10,\n",
    "                                    tolerance=1e-2, log_every=10, compute_exact_loss=False):\n",
    "    \"\"\" Computes the Z matrix using gradient descent.\n",
    "    \n",
    "    Parameters:\n",
    "    -----------\n",
    "    L : sp.csr_matrix, shape [N, N]\n",
    "        The graph laplacian, unnormalized.\n",
    "    W_sqrt : sp.coo_matrix, shape [e, e]\n",
    "        Diagonal matrix containing the square root of weights of each edge.\n",
    "    B : sp.coo_matrix, shape [e, N]\n",
    "        Signed vertex incidence matrix.\n",
    "    epsilon : float\n",
    "        Tolerance for deviations w.r.t. spectral norm of the sparsifier. Smaller epsilon lead to a higher\n",
    "        dimensionality of the Z matrix.\n",
    "    eta : float\n",
    "        Step size for the gradient descent.\n",
    "    max_iters : int\n",
    "        Maximum number of iterations.\n",
    "    convergence_after : int\n",
    "        If the loss did not decrease significantly for this amount of iterations, the gradient descent will abort.\n",
    "    tolerance : float\n",
    "        The minimum amount of energy decrease that is expected for iterations. If for a certain number of iterations\n",
    "        no overall energy decrease is detected, the gradient descent will abort.\n",
    "    log_every : int\n",
    "        Log the loss after each log_every iterations.\n",
    "    compute_exact_loss : bool\n",
    "        Only for debugging. If set it computes the actual pseudo inverse without down-projection and checks if\n",
    "        the pairwise distances in Z's columns are the same with respect to the forbenius norm.\n",
    "        \n",
    "    Returns:\n",
    "    --------\n",
    "    Z : ndarray, shape [k, N]\n",
    "        Matrix from which to efficiently compute approximate resistances.\n",
    "    \"\"\"\n",
    "    k = int(np.ceil(np.log(B.shape[1] / epsilon**2)))\n",
    "    # Compute the random projection matrix\n",
    "    Q = (2 * np.random.randint(2, size=(k, B.shape[0])) - 1).astype(np.float)\n",
    "    Q *= 1 / np.sqrt(k)\n",
    "    Y = W_sqrt.dot(B).tocsr()\n",
    "    Y_red = sp.csr_matrix.dot(Q, Y)\n",
    "    \n",
    "    if compute_exact_loss:\n",
    "        # Use exact effective resistances to track actual similarity of the pairwise distances\n",
    "        L_inv = np.linalg.pinv(L.todense())\n",
    "        Z_gnd = sp.csr_matrix.dot(Y, L_inv)\n",
    "        pairwise_dist_gnd = Z_gnd.T.dot(Z_gnd)\n",
    "    \n",
    "    # Use gradient descent to solve for Z\n",
    "    Z = np.random.randn(k, L.shape[1])\n",
    "    best_loss = np.inf\n",
    "    best_iter = np.inf\n",
    "    for it in range(max_iters):\n",
    "        residual = Y_red - sp.csr_matrix.dot(Z, L)\n",
    "        loss = np.linalg.norm(residual)\n",
    "        if it % log_every == 0: \n",
    "            print(f'Loss before iteration {it}: {loss}')\n",
    "            if compute_exact_loss:\n",
    "                pairwise_dist = Z.T.dot(Z)\n",
    "                exact_loss = np.linalg.norm(pairwise_dist - pairwise_dist_gnd)\n",
    "                print(f'Loss w.r.t. exact pairwise distances {exact_loss}')\n",
    "                \n",
    "        if loss + tolerance < best_loss:\n",
    "            best_loss = loss\n",
    "            best_iter = it\n",
    "        elif it > best_iter + convergence_after:\n",
    "            # No improvement for 10 iterations\n",
    "            print(f'Convergence after {it - 1} iterations.')\n",
    "            break\n",
    "        \n",
    "        Z += eta * L.dot(residual.T).T\n",
    "    return Z\n",
    "    "
   ]
  },
  {
   "cell_type": "code",
   "execution_count": 4,
   "metadata": {},
   "outputs": [],
   "source": [
    "def compute_effective_resistances(Z, edges):\n",
    "    \"\"\" Computes the effective resistance for each edge in the graph.\n",
    "    \n",
    "    Paramters:\n",
    "    ----------\n",
    "    Z : ndarray, shape [k, N]\n",
    "        Matrix from which to efficiently compute approximate effective resistances.\n",
    "    edges : tuple\n",
    "        A tuple of lists indicating the row and column indices of edges.\n",
    "        \n",
    "    Returns:\n",
    "    --------\n",
    "    R : ndarray, shape [e]\n",
    "        Effective resistances for each edge.\n",
    "    \"\"\"\n",
    "    rows, cols = edges\n",
    "    assert(len(rows) == len(cols))\n",
    "    R = []\n",
    "    # Compute pairwise distances\n",
    "    for i, j in zip(rows, cols):\n",
    "        R.append(np.linalg.norm(Z[:, i] - Z[:, j]) ** 2)\n",
    "    return np.array(R)"
   ]
  },
  {
   "cell_type": "code",
   "execution_count": 5,
   "metadata": {},
   "outputs": [],
   "source": [
    "def sparsify(A, q, R, edges, prevent_vertex_blow_up=False):\n",
    "    \"\"\" Spamples a sparsifier of the graph represented by an adjacency matrix.\n",
    "    \n",
    "    Paramters:\n",
    "    ----------\n",
    "    A : sp.csr_matrix\n",
    "        The adjacency matrix of the graph.\n",
    "    q : int\n",
    "        The number of samples for the sparsifier.\n",
    "    R : ndarray, shape [e]\n",
    "        Effective resistances (approximate) for each edge.\n",
    "    edges : tuple\n",
    "        A tuple of lists indicating the row and column indices of edges.\n",
    "    prevent_vertex_blow_up : bool\n",
    "        If the probabilities will be tweaked in order to ensure that the vertices are not\n",
    "        blown up too much. Note that this will only guarantee a spectral closeness up\n",
    "        to a factor of 2 * epsilon.\n",
    "        \n",
    "    Returns:\n",
    "    --------\n",
    "    B : sp.csr_matrix\n",
    "        The adjacency matrix of the sparsified graph with at most q edges.\n",
    "    \"\"\"\n",
    "    rows, cols = edges\n",
    "    weights = np.array(A[rows, cols].tolist())[0, :]\n",
    "    probs = weights * R\n",
    "    probs /= sum(probs)\n",
    "    probs = probs.reshape((probs.shape[0], 1))\n",
    "    if prevent_vertex_blow_up: # Proabilities do not sum up to one? But also in the paper I guess...\n",
    "        degrees = A.sum(1)[np.array(edges)].squeeze().T\n",
    "        mins = 1 / np.min(degrees, axis=1) / A.shape[0]\n",
    "        probs += mins\n",
    "        probs /= 2\n",
    "    B = sp.lil_matrix(A.shape)\n",
    "    sampled = np.random.choice(probs.shape[0], q, p=probs.ravel())\n",
    "    for idx in sampled:\n",
    "        i, j = rows[idx], cols[idx]\n",
    "        B[i, j] += weights[idx] / q / probs[idx]\n",
    "    return B.tocsr()"
   ]
  },
  {
   "cell_type": "code",
   "execution_count": 6,
   "metadata": {},
   "outputs": [],
   "source": [
    "def spectral_sparsify(A, q=None, epsilon=1e-1, eta=1e-3, max_iters=1000, convergence_after=100,\n",
    "                                    tolerance=1e-2, log_every=10, prevent_vertex_blow_up=False):\n",
    "    \"\"\" Computes a spectral sparsifier of the graph given by an adjacency matrix.\n",
    "    \n",
    "    Parameters:\n",
    "    ----------\n",
    "    A : sp.csr_matrix, shape [N, N]\n",
    "        The adjacency matrix of the graph.\n",
    "    q : int or None\n",
    "        The number of samples for the sparsifier. If None q will be set to N * log(N) / (epsilon * 2)\n",
    "    epsilon : float\n",
    "        The desired spectral similarity of the sparsifier.\n",
    "    eta : float\n",
    "        Step size for the gradient descent when computing resistances.\n",
    "    max_iters : int\n",
    "        Maximum number of iterations when computing resistances.\n",
    "    convergence_after : int\n",
    "        If the loss did not decrease significantly for this amount of iterations, the gradient descent will abort.\n",
    "    tolerance : float\n",
    "        The minimum amount of energy decrease that is expected for iterations. If for a certain number of iterations\n",
    "        no overall energy decrease is detected, the gradient descent will abort.\n",
    "    log_every : int\n",
    "        Log the loss after each log_every iterations when computing resistances.\n",
    "    prevent_vertex_blow_up : bool\n",
    "        If the probabilities will be tweaked in order to ensure that the vertices are not\n",
    "        blown up too much. Note that this will only guarantee a spectral closeness up\n",
    "        to a factor of 2 * epsilon.\n",
    "    \n",
    "    Returns:\n",
    "    --------\n",
    "    H : sp.csr_matrix, shape [N, N]\n",
    "        Sparsified graph with at most q edges.\n",
    "    \"\"\"\n",
    "    if q is None:\n",
    "        q = int(np.ceil(A.shape[0] * np.log(A.shape[0]) / (epsilon ** 2)))\n",
    "    L, W_sqrt, B, edges = construct_matrices(A)\n",
    "    Z = compute_Z(L, W_sqrt, B, epsilon=epsilon, log_every=log_every, max_iters=max_iters, convergence_after=convergence_after, eta=eta, tolerance=tolerance, compute_exact_loss=False)\n",
    "    R = compute_effective_resistances(Z, edges)\n",
    "    return sparsify(A, q, R, edges, prevent_vertex_blow_up=prevent_vertex_blow_up)"
   ]
  },
  {
   "cell_type": "code",
   "execution_count": 7,
   "metadata": {},
   "outputs": [],
   "source": [
    "def visualize_graph(A, plot_labels=True):\n",
    "    rows, cols = A.nonzero()\n",
    "    edges = list(zip(rows.tolist(), cols.tolist()))\n",
    "    gr = nx.Graph()\n",
    "    gr.add_edges_from(edges)\n",
    "    graph_pos=nx.random_layout(gr)\n",
    "    nx.draw_networkx_nodes(gr, graph_pos, node_size=2)\n",
    "    nx.draw_networkx_edges(gr, graph_pos, edge_size=1)\n",
    "    weights = A[rows, cols].tolist()[0]\n",
    "    if plot_labels: nx.draw_networkx_edge_labels(gr, graph_pos, edge_labels=dict(zip(edges, weights)))\n",
    "    plt.show()\n"
   ]
  },
  {
   "cell_type": "code",
   "execution_count": 8,
   "metadata": {},
   "outputs": [],
   "source": [
    "# Create an artificial small graph for testing\n",
    "# Construct a random adjacency matrix for testing\n",
    "np.random.seed(1337)\n",
    "n = 500\n",
    "m = n * n // 8\n",
    "A = sp.coo_matrix((np.abs(np.random.randn(m)), (np.random.randint(n, size=m), np.random.randint(n, size=m))), shape=[n, n])\n",
    "A = A.tocsr()\n",
    "A = A + A.T\n",
    "m = A.nnz"
   ]
  },
  {
   "cell_type": "code",
   "execution_count": 9,
   "metadata": {},
   "outputs": [
    {
     "data": {
      "text/plain": [
       "(1000, 1000000)"
      ]
     },
     "execution_count": 9,
     "metadata": {},
     "output_type": "execute_result"
    }
   ],
   "source": [
    "# Create the complete graph with n vertices\n",
    "n = 1000\n",
    "A = sp.csr_matrix(np.ones([n, n]))\n",
    "m = A.nnz\n",
    "epsilon = 3e-1\n",
    "n, m"
   ]
  },
  {
   "cell_type": "code",
   "execution_count": 10,
   "metadata": {},
   "outputs": [],
   "source": [
    "# Uncomment only if A has few edges\n",
    "#visualize_graph(A, plot_labels=False)"
   ]
  },
  {
   "cell_type": "code",
   "execution_count": 11,
   "metadata": {},
   "outputs": [
    {
     "name": "stdout",
     "output_type": "stream",
     "text": [
      "Loss before iteration 0: 99601.92028899242\n",
      "Loss before iteration 100: 1.6293694187463441e-12\n",
      "Convergence after 101 iterations.\n",
      "Sparsified graph has 73833 edges.\n"
     ]
    }
   ],
   "source": [
    "B = spectral_sparsify(A, epsilon=epsilon, log_every=100, convergence_after=100, eta=1e-6, max_iters=100000, prevent_vertex_blow_up=True)\n",
    "print(f'Sparsified graph has {B.nnz} edges.')\n",
    "#visualize_graph(B, plot_labels=False)"
   ]
  },
  {
   "cell_type": "code",
   "execution_count": 12,
   "metadata": {},
   "outputs": [],
   "source": [
    "def spectral_closeness(L_A, L_X, samples=10000):\n",
    "    \"\"\" Checks the spectral closeness for random vectors.\n",
    "    \n",
    "    Parameters:\n",
    "    -----------\n",
    "    L_A : sp.csr_matrix\n",
    "        Laplacian of the original graph.\n",
    "    L_A : sp.csr_matrix\n",
    "        Laplacian of the sparsifier.\n",
    "    samples : int\n",
    "        The number of random vectors to sample.\n",
    "        \n",
    "    Returns:\n",
    "    --------\n",
    "    closeness : ndarray, [samples]\n",
    "        The closeness of the spectral forms w.r.t. to each sample.\n",
    "    \"\"\"\n",
    "    results = []\n",
    "    for _ in range(samples):\n",
    "        x = np.random.rand(L_A.shape[0])\n",
    "        energy = sp.csr_matrix.dot(x.T, L_A).dot(x)\n",
    "        energy_approx = sp.csr_matrix.dot(x.T, L_X).dot(x)\n",
    "        results.append(np.abs((energy_approx / energy) - 1))\n",
    "    return np.array(results)\n",
    "    "
   ]
  },
  {
   "cell_type": "code",
   "execution_count": 13,
   "metadata": {},
   "outputs": [
    {
     "name": "stdout",
     "output_type": "stream",
     "text": [
      "100.0 % of samples deviated at most 0.3 from the original graph w.r.t. to their laplacians.\n"
     ]
    }
   ],
   "source": [
    "# Check the spectral closeness of A and its sparsifier\n",
    "scores = spectral_closeness(sp.csgraph.laplacian(A), sp.csgraph.laplacian(B))\n",
    "rate = np.sum((scores <= epsilon).astype(np.int)) / scores.shape[0]  * 100\n",
    "print(f'{rate} % of samples deviated at most {epsilon} from the original graph w.r.t. to their laplacians.')"
   ]
  },
  {
   "cell_type": "code",
   "execution_count": 14,
   "metadata": {},
   "outputs": [
    {
     "data": {
      "image/png": "[encoded data removed]",
      "text/plain": [
       "<Figure size 432x288 with 1 Axes>"
      ]
     },
     "metadata": {},
     "output_type": "display_data"
    }
   ],
   "source": [
    "# Make plots for the paper\n",
    "plt.rc('text', usetex=True)\n",
    "plt.rc('font', family='serif', size=18)\n",
    "\n",
    "f = plt.figure()\n",
    "plt.hist(scores, bins=100)\n",
    "plt.xlabel(r'Deviation $\\epsilon^\\prime$')\n",
    "plt.ylabel(r'Number of samples')\n",
    "plt.title('')\n",
    "f.savefig(\"../paper/spectral.pdf\", bbox_inches='tight', format='pdf')"
   ]
  },
  {
   "cell_type": "code",
   "execution_count": 15,
   "metadata": {},
   "outputs": [],
   "source": [
    "# Compare a random sparsifier with same amount of edges\n",
    "def random_sparsifier(A, q):\n",
    "    rows, cols = A.nonzero()\n",
    "    weights = np.array(A[rows, cols].tolist())[0, :]\n",
    "    B = sp.lil_matrix(A.shape)\n",
    "    sampled = np.random.choice(len(rows), q, replace=False)\n",
    "    for idx in sampled:\n",
    "        i, j = rows[idx], cols[idx]\n",
    "        B[i, j] += weights[idx]\n",
    "    return B.tocsr()"
   ]
  },
  {
   "cell_type": "code",
   "execution_count": null,
   "metadata": {},
   "outputs": [],
   "source": [
    "B_rnd = random_sparsifier(A, int(np.ceil(A.shape[0] * np.log(A.shape[0]) / (epsilon ** 2))))\n",
    "scores_rnd = spectral_closeness(sp.csgraph.laplacian(A), sp.csgraph.laplacian(B_rnd))\n",
    "rate_rnd = np.sum((scores_rnd <= epsilon).astype(np.int)) / scores_rnd.shape[0]  * 100\n",
    "print(f'{rate_rnd} % of samples deviated at most {epsilon} from the original graph w.r.t. to their laplacians.')"
   ]
  },
  {
   "cell_type": "code",
   "execution_count": null,
   "metadata": {},
   "outputs": [],
   "source": [
    "# Make plots for the paper\n",
    "plt.rc('text', usetex=True)\n",
    "plt.rc('font', family='serif', size=18)\n",
    "\n",
    "f = plt.figure()\n",
    "plt.hist(scores_rnd, bins=100)\n",
    "plt.xlabel(r'Deviation $\\epsilon^\\prime$')\n",
    "plt.ylabel(r'Number of samples')\n",
    "plt.title('')\n",
    "f.savefig(\"../paper/random.pdf\", bbox_inches='tight', format='pdf')"
   ]
  },
  {
   "cell_type": "code",
   "execution_count": null,
   "metadata": {},
   "outputs": [],
   "source": []
  }
 ],
 "metadata": {
  "kernelspec": {
   "display_name": "Python 3",
   "language": "python",
   "name": "python3"
  },
  "language_info": {
   "codemirror_mode": {
    "name": "ipython",
    "version": 3
   },
   "file_extension": ".py",
   "mimetype": "text/x-python",
   "name": "python",
   "nbconvert_exporter": "python",
   "pygments_lexer": "ipython3",
   "version": "3.6.3"
  }
 },
 "nbformat": 4,
 "nbformat_minor": 2
}
